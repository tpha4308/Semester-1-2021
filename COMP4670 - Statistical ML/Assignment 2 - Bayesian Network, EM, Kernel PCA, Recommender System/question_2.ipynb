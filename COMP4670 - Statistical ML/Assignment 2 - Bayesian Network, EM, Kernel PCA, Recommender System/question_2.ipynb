{
 "cells": [
  {
   "cell_type": "markdown",
   "metadata": {
    "id": "YCEqK9DXO24f"
   },
   "source": [
    "# **Q2: Kernel PCA** (30 Marks)\n",
    "\n",
    "_Background content related to this question can be found in Sections 12.1.4 and 12.3 of Bishop's book._\n",
    "## **KPCA Section 1: Theory (Eigen vectors of the kernel and the feature covariance)**\n",
    "###  Question 2.1 [5 Marks]\n",
    "\n",
    "Given d-dimensional input data $\\{\\mathbf{x}_i \\in  \\mathbb{R}^d, i=1,\\ldots,N \\}$. \n",
    "Define input matrix $\\mathbf{X}=[\\mathbf{x}_1^\\top;\\ldots;\\mathbf{x}_N^\\top]$ with $\\mathbf{X} \\in \\mathbb{R}^{N \\times d}$, here semicolon means concatenating rows to form a matrix. \n",
    "Define non-linear feature function $\\phi: \\mathbb{R}^{d} \\to \\mathbb{R}^{k}$, where $\\phi(\\mathbf{x}_i) \\in  \\mathbb{R}^{k}$ is the feature map for the _i_-th input data. Feature matrix $\\mathbf{\\Phi} \\in \\mathbb{R}^{N \\times k}$ is defined as $\\mathbf{\\Phi}=[\\phi(\\mathbf{x}_1)^\\top;\\ldots;\\phi(\\mathbf{x}_N)^\\top]$.\n",
    "\n",
    "Let's assume that feature vectors $\\mathbf{\\Phi}$ are centered. Denote its covariance matrix as $\\tilde C = \\mathbf{\\Phi}^\\top \\mathbf{\\Phi}$. From Chapter 6 and 7 we also know that the kernel matrix can be defined as $\\mathbf{K} = \\mathbf{\\Phi} \\mathbf{\\Phi}^\\top$. \n",
    "\n",
    "Take a non-zero eigen value of $\\mathbf{K}$, denote it as $\\lambda_j$, with the corresonding eigen vector $\\mathbf{v}_j$ normalised to unit length, i.e. $\\mathbf{v}_j^\\top \\mathbf{v}_j=1$. \n",
    "\n",
    "Show that there exists an eigen vector $\\mathbf{u}_j$ such that $\\tilde C\\mathbf{u}_j = \\lambda_j \\mathbf{u}_j$, with the property that $\\|\\mathbf{u}_j\\|^2 = \\lambda_j$.\n",
    "\n",
    "\n",
    "**Solution:**"
   ]
  },
  {
   "cell_type": "markdown",
   "metadata": {
    "id": "ZpYb7iNgPa2M"
   },
   "source": [
    "With a non-zero eigenvalue $\\lambda_j$ of $\\mathbf{K}$ and its corresponding normalised eigenvector $\\mathbf{v}_j$, we have:\n",
    "\n",
    "$$\n",
    "\\begin{align} \n",
    "\\lambda_j \\mathbf{v}_j &= \\mathbf{K} \\mathbf{v}_j\\\\\n",
    "\\lambda_j \\mathbf{v}_j &= \\mathbf{\\Phi}\\mathbf{\\Phi}^T \\mathbf{v}_j\n",
    "\\end{align}\n",
    "$$\n",
    "\n",
    "left-multiply both side by $\\mathbf{\\Phi}^T$:\n",
    "\n",
    "$$\n",
    "\\begin{align} \n",
    "\\mathbf{\\Phi}^T\\lambda_j \\mathbf{v}_j &= (\\mathbf{\\Phi}^T\\mathbf{\\Phi})\\mathbf{\\Phi}^T \\mathbf{v}_j\\\\\n",
    "\\lambda_j (\\mathbf{\\Phi}^T\\mathbf{v}_j) &= \\tilde{C} (\\mathbf{\\Phi}^T \\mathbf{v}_j)\n",
    "\\end{align}\n",
    "$$\n",
    "\n",
    "let $\\mathbf{u}_j=\\mathbf{\\Phi}^T \\mathbf{v}_j$:\n",
    "\n",
    "$$ \\lambda_j \\mathbf{u_j} = \\tilde{C} \\mathbf{u_j}$$\n",
    "\n",
    "It can be shown that \n",
    "\n",
    "$$\n",
    "\\begin{align}\n",
    "\\|\\mathbf{u}_j\\|^2 = \\mathbf{u}_j^T\\mathbf{u}_j &= (\\mathbf{\\Phi}^T \\mathbf{v}_j)^T(\\mathbf{\\Phi}^T \\mathbf{v}_j)\n",
    "\\\\\n",
    "&= \\mathbf{v}_j^T\\mathbf{\\Phi}\\mathbf{\\Phi}^T \\mathbf{v}_j \\\\\n",
    "&= \\mathbf{v}_j^T \\mathbf{K} \\mathbf{v}_j \\\\\n",
    "&= \\mathbf{v}_j^T \\lambda_j \\mathbf{v}_j \\\\\n",
    "&= \\lambda_j (\\mathbf{v}_j^T\\mathbf{v}_j) \\\\\n",
    "&= \\lambda_j. \\quad \\quad \\quad (\\mathbf{v}_j^T\\mathbf{v}_j = 1)\n",
    "\\end{align}\n",
    "$$"
   ]
  },
  {
   "cell_type": "markdown",
   "metadata": {
    "id": "5NN-D9WlQH9d"
   },
   "source": [
    "\n",
    "\n",
    "## **KPCA Section 2: Programming**\n",
    "#### **Notes**: Do **NOT** change function names and parameters where you are told to fill in.\n",
    "In this section, we will implement kernel PCA to transform the data and consider the concentric ring dataset as an example. The concentric ring dataset in $\\mathbb{R}^2$ consists of $N$ datapoints with three different labels (red, blue, and green). We define an input matrix $\\mathbf{X}=[\\mathbf{x}_1^\\top;\\ldots;\\mathbf{x}_N^\\top]$ with $\\mathbf{X} \\in \\mathbb{R}^{N \\times 2}$ and $\\mathbf{y}\\in \\mathbb{R}^N$ as a vector containing labels.  \n",
    "\n",
    " The code below visualises the dataset. \n",
    "\n",
    "(You are not allowed to import other modules except defined below)  "
   ]
  },
  {
   "cell_type": "code",
   "execution_count": 2,
   "metadata": {
    "id": "04E4FUWeQZtv"
   },
   "outputs": [],
   "source": [
    "import numpy as np\n",
    "import matplotlib.pyplot as plt\n",
    "import math"
   ]
  },
  {
   "cell_type": "code",
   "execution_count": 17,
   "metadata": {
    "id": "QMQ4BSrUQU-X"
   },
   "outputs": [],
   "source": [
    "# This function is to visualise the data (Please do not change) \n",
    "def plot_data(X, y):\n",
    "    plt.figure()\n",
    "    plt.subplot(1, 1, 1 )\n",
    "    \n",
    "    reds = y == 0\n",
    "    blues = y == 1\n",
    "    green = y == 2\n",
    "\n",
    "    plt.scatter(X[reds, 0], X[reds, 1], c=\"red\",\n",
    "              s=20, edgecolor='k')\n",
    "    plt.scatter(X[blues, 0], X[blues, 1], c=\"blue\",\n",
    "              s=20, edgecolor='k')\n",
    "    plt.scatter(X[green, 0], X[green, 1], c=\"green\",\n",
    "              s=20, edgecolor='k')\n",
    "    plt.xlabel(\"$x_1$\")\n",
    "    plt.ylabel(\"$x_2$\")\n",
    "\n",
    "    plt.title('PCA on Circle Data')\n",
    "    plt.show()"
   ]
  },
  {
   "cell_type": "code",
   "execution_count": 4,
   "metadata": {
    "id": "q7D_9-hWYaHq"
   },
   "outputs": [
    {
     "data": {
      "image/png": "[encoded data removed]",
      "text/plain": [
       "<Figure size 432x288 with 1 Axes>"
      ]
     },
     "metadata": {
      "needs_background": "light"
     },
     "output_type": "display_data"
    }
   ],
   "source": [
    "# This function is create the concentric ring data (Please do not change)\n",
    "def make_circles(n_samples=100, factor=2):\n",
    "    n_samples_out = n_samples // 8\n",
    "    n_samples_in2 = n_samples // 3\n",
    "    n_samples_in = n_samples // 6\n",
    "\n",
    "    generator = np.random.RandomState(100)\n",
    "    linspace_out = np.linspace(0, 2 * np.pi, n_samples_out, endpoint=False)\n",
    "    linspace_in = np.linspace(0, 2 * np.pi, n_samples_in, endpoint=False)\n",
    "    linspace_in2 = np.linspace(0, 2 * np.pi, n_samples_in2, endpoint=False)\n",
    "    red_circ_x = np.cos(linspace_out)\n",
    "    red_circ_y = np.sin(linspace_out)\n",
    "    blue_circ_x = np.cos(linspace_in) * factor\n",
    "    blue_circ_y = np.sin(linspace_in) * factor\n",
    "    green_circ_x = np.cos(linspace_in2) * factor*2\n",
    "    green_circ_y = np.sin(linspace_in2) * factor*2\n",
    "\n",
    "    X = np.vstack([np.append(np.append(red_circ_x, blue_circ_x), green_circ_x),\n",
    "                   np.append(np.append(red_circ_y, blue_circ_y), green_circ_y)]).T\n",
    "    y = np.hstack([np.zeros(n_samples_out, dtype=np.intp),\n",
    "                   np.ones(n_samples_in, dtype=np.intp), np.ones(n_samples_in2, dtype=np.intp)*2])\n",
    "\n",
    "    X += generator.normal(scale=0.1, size=X.shape)\n",
    "\n",
    "    return np.array(X), np.array(y)\n",
    "\n",
    "# X is the input matrix (N x d) and y is the label (red/blue/green)\n",
    "X, y = make_circles(n_samples=180)\n",
    "plot_data(X, y)\n"
   ]
  },
  {
   "cell_type": "code",
   "execution_count": 5,
   "metadata": {},
   "outputs": [
    {
     "data": {
      "text/plain": [
       "array([0, 0, 0, 0, 0, 0, 0, 0, 0, 0, 0, 0, 0, 0, 0, 0, 0, 0, 0, 0, 0, 0,\n",
       "       1, 1, 1, 1, 1, 1, 1, 1, 1, 1, 1, 1, 1, 1, 1, 1, 1, 1, 1, 1, 1, 1,\n",
       "       1, 1, 1, 1, 1, 1, 1, 1, 2, 2, 2, 2, 2, 2, 2, 2, 2, 2, 2, 2, 2, 2,\n",
       "       2, 2, 2, 2, 2, 2, 2, 2, 2, 2, 2, 2, 2, 2, 2, 2, 2, 2, 2, 2, 2, 2,\n",
       "       2, 2, 2, 2, 2, 2, 2, 2, 2, 2, 2, 2, 2, 2, 2, 2, 2, 2, 2, 2, 2, 2,\n",
       "       2, 2])"
      ]
     },
     "execution_count": 5,
     "metadata": {},
     "output_type": "execute_result"
    }
   ],
   "source": [
    "y"
   ]
  },
  {
   "cell_type": "markdown",
   "metadata": {
    "id": "5hGP4II8r0Oq"
   },
   "source": [
    "Notice that this dataset is not linearly separable. We can consider the kernel method to make the dataset to be linearly separable.\n",
    "We try to transform the ring dataset to be linearly separable using kernel PCA. We define the basis function $\\phi: \\mathbb{R}^2 \\to \\mathbb{R}^k$ to transform an input vector $\\mathbf{x}_i$, and denote a matrix of features as $\\mathbf{\\Phi}=[\\phi(\\mathbf{x}_1)^\\top;\\ldots;\\phi(\\mathbf{x}_N)^\\top]$. Here the kernel function is defined $\\mathbb{k}(\\mathbf{x}_i,\\mathbf{x}_j) = \\phi(\\mathbf{x}_i)^\\top \\phi(\\mathbf{x}_j)$.\n",
    "In these questions, we employ polynomial and radial basis functions as kernel functions.\n",
    " \n",
    "\n",
    "### Question 2.2 [ 5 Marks]\n",
    "\n",
    "Consider a 3rd-order polynomial kernel function:\n",
    "$$\\mathbb{k}(\\mathbf{x}_i,\\mathbf{x}_j) = (\\mathbf{x}_i^\\top \\mathbf{x}_j + 3)^3.$$\n",
    "\n",
    "Find the basis function $\\phi$ for this kernel (See Bishop Sec 6.2), show your workings.\n",
    "What is the feature dimensionality $k$ after mapping with the basis function?\n",
    "\n",
    "**Solution:**\n"
   ]
  },
  {
   "cell_type": "markdown",
   "metadata": {
    "id": "xbYzJ5j1R5lw"
   },
   "source": [
    "$$\n",
    "\\begin{align}\n",
    "\\mathbb{k}(\\mathbf{x},\\mathbf{z}) &= (\\mathbf{x}^\\top \\mathbf{z} + 3)^3 \\\\\n",
    "&= (x_1z_1 + x_2z_2 +3)^3 \\\\\n",
    "&= (x_1z_1 + x_2z_2 +3)(x_1z_1 + x_2z_2 +3)(x_1z_1 + x_2z_2 +3) \\\\\n",
    "&= x_1^3z_1^3 + 9x_1^2z_1^2 + 27x_1z_1 + 18x_1x_2z_1z_2 + 3x_1^2x_2z_1^2z_2 + 3x_1x_2^2z_1z_2^2 + 27x_2z_2 + 9x_2^2z_2^2 + x_2^3z_2^3 + 27 \\\\\n",
    "&= (x_1^3, 3x_1^2, \\sqrt{27}x_1, \\sqrt{18}x_1x_2, \\sqrt{3}x_1^2x_2, \\sqrt{3}x_1x_2^2, \\sqrt{27}x_2, 3x_2^2, x_2^3, \\sqrt{27})^T (z_1^3, 3z_1^2, \\sqrt{27}z_1, \\sqrt{18}z_1z_2, \\sqrt{3}z_1^2z_2, \\sqrt{3}z_1z_2^2, \\sqrt{27}z_2, 3z_2^2, z_2^3, \\sqrt{27}) \\\\\n",
    "& = \\phi(\\mathbf{x})^T\\phi(\\mathbf{z})\n",
    "\\end{align}\n",
    "$$\n",
    "\n",
    "with the feature mapping $\\phi(\\mathbf{x}) = (x_1^3, 3x_1^2, \\sqrt{27}x_1, \\sqrt{18}x_1x_2, \\sqrt{3}x_1^2x_2, \\sqrt{3}x_1x_2^2, \\sqrt{27}x_2, 3x_2^2, x_2^3, \\sqrt{27}) $ where the feature dimensionality after mapping is 10.\n"
   ]
  },
  {
   "cell_type": "markdown",
   "metadata": {
    "id": "zSo7M4O8Rz0p"
   },
   "source": [
    "### Question 2.3 [10 Marks]\n",
    "\n",
    "As we know that there are a kernel matrix and a covariance matrix. Below, we implement kernel PCA by computing the kernel matrix with the basis function $\\phi$ and the kernel function $\\mathbb{k}(\\mathbf{x_i},\\mathbf{x}_j)$ using the polynomial function in Question 2.2. Afterwards, the data is projected using PCA. \n",
    "<br/>\n",
    "**Solution:**\n",
    "\n"
   ]
  },
  {
   "cell_type": "code",
   "execution_count": 6,
   "metadata": {},
   "outputs": [],
   "source": [
    "def apply_basis(x):\n",
    "    x1, x2 = x\n",
    "    return np.array([x1**3, 3*x1**2, np.sqrt(27)*x1, np.sqrt(18)*x1*x2, np.sqrt(3)*(x1**2)*(x2), \n",
    "                     np.sqrt(3)*(x1)*(x2**2),np.sqrt(27)*x2, 3*(x2**2), x2**3, np.sqrt(27)])"
   ]
  },
  {
   "cell_type": "code",
   "execution_count": 7,
   "metadata": {
    "id": "o-5HSpJY3d3-"
   },
   "outputs": [],
   "source": [
    "# Solution: code for computing the kernel matrix using the basis function \n",
    "def polynomial_basis_transformation(X):\n",
    "    # Input: An input matrix N x 2\n",
    "    # Output: A kernel matrix \n",
    "    # Transform the input X and apply the basis function phi \n",
    "    \n",
    "    ####  TODO {Type your solution here} ###\n",
    "    ndata, dim = X.shape\n",
    "    \n",
    "    # applying basis function\n",
    "    transform_data = []\n",
    "    for data_point in X:\n",
    "        data_point_transform = apply_basis(data_point)\n",
    "        transform_data.append(data_point_transform)\n",
    "        \n",
    "    transform_data = np.array(transform_data)\n",
    "    \n",
    "    # creating the kernel matrix\n",
    "    K = np.zeros((ndata, ndata))\n",
    "    for i in range(ndata):\n",
    "        theta_xi = transform_data[i]\n",
    "        for j in range(ndata):\n",
    "            theta_xj = transform_data[j]\n",
    "            xi_xj = np.dot(theta_xi, theta_xj)\n",
    "            K[i][j] = xi_xj\n",
    "            \n",
    "    # centering the kernel matrix \n",
    "    one_n = np.ones((ndata, ndata))*(1/ndata)\n",
    "    centered_kernel = K - one_n@K - K@one_n + one_n@K@one_n\n",
    "\n",
    "    return centered_kernel"
   ]
  },
  {
   "cell_type": "code",
   "execution_count": 8,
   "metadata": {
    "id": "N6zmtPpT5OV1"
   },
   "outputs": [],
   "source": [
    "# Solution: code for computing the kernel matrix using the kernel function \n",
    "def polynomial_kernel(X):\n",
    "    # Input: An input matrix N x 2\n",
    "    # Output: A kernel matrix \n",
    "    # Compute the kernel function to X\n",
    "    \n",
    "    ####  TODO {Type your solution here} ###\n",
    "    \n",
    "    ndata, dim = X.shape\n",
    "    K = np.zeros((ndata, ndata))\n",
    "    \n",
    "    for i in range(ndata):\n",
    "        for j in range(ndata):\n",
    "            xi_xj = (np.dot(X[i], X[j]) + 3)**3\n",
    "            K[i][j] = xi_xj\n",
    "            \n",
    "    # centering the kernel matrix \n",
    "    one_n = np.ones((ndata, ndata))*(1/ndata)\n",
    "    centered_kernel = K - one_n@K - K@one_n + one_n@K@one_n\n",
    "    \n",
    "    return centered_kernel"
   ]
  },
  {
   "cell_type": "code",
   "execution_count": 9,
   "metadata": {},
   "outputs": [
    {
     "data": {
      "image/png": "[encoded data removed]",
      "text/plain": [
       "<Figure size 432x288 with 1 Axes>"
      ]
     },
     "metadata": {
      "needs_background": "light"
     },
     "output_type": "display_data"
    },
    {
     "data": {
      "image/png": "[encoded data removed]",
      "text/plain": [
       "<Figure size 432x288 with 1 Axes>"
      ]
     },
     "metadata": {
      "needs_background": "light"
     },
     "output_type": "display_data"
    }
   ],
   "source": [
    "# Solution to data projection \n",
    "def kernel_function(x,z):\n",
    "    return (np.dot(x, z) + 3)**3\n",
    "        \n",
    "def pca_projection(X, func):\n",
    "    # Your answer: Calculating the kernel matrix \n",
    "    # Output: The projected points in R^2\n",
    "    ####  TODO {Type your solution here} ###\n",
    "    \n",
    "    ndata, dim = X.shape\n",
    "    kernel_matrix = func(X)\n",
    "\n",
    "    eigvals, eigvecs = np.linalg.eig(kernel_matrix)\n",
    "    eigvecs = np.real(eigvecs)\n",
    "    \n",
    "    projected_data = []\n",
    "    k = 2\n",
    "    \n",
    "    for i in range(ndata):\n",
    "        projected_vector = np.zeros(k)\n",
    "        for j in range(k):\n",
    "            coeffs = 0\n",
    "            aj = eigvecs[:,j]\n",
    "            for n in range(ndata):\n",
    "                coeffs += aj[n]*kernel_function(X[i], X[n])\n",
    "\n",
    "            projected_vector[j] = coeffs\n",
    "        projected_data.append(projected_vector)\n",
    "        \n",
    "    projected_data = np.array(projected_data)\n",
    "    return projected_data\n",
    "\n",
    "# Please do NOT change the code below\n",
    "# Calculate the projection with parameters: an input matrix and a function \n",
    "projected_X_poly_kernel = pca_projection(X, polynomial_kernel)\n",
    "plot_data(projected_X_poly_kernel, y)\n",
    "\n",
    "# Calculate the projection with parameters: an input matrix and a function\n",
    "projected_X_poly_basis = pca_projection(X, polynomial_basis_transformation)\n",
    "plot_data(projected_X_poly_basis, y)"
   ]
  },
  {
   "cell_type": "markdown",
   "metadata": {
    "id": "vbZwt-uFT48R"
   },
   "source": [
    "## In Question 2.4 and 2.5, we consider to use the Radial Basis Function (RBF) kernel. We define the kernel function as:\n",
    "  $$\\mathbb{k}(\\mathbf{x}_i,\\mathbf{x}_j)=\\mathrm{exp}(-\\gamma \\|\\mathbf{x}_i-\\mathbf{x}_j\\|^2),$$ where $\\gamma$ is a parameter to control the radius of the kernel. The result of the projected data is highly dependent on the value of $\\gamma$.\n",
    "\n",
    "### Question 2.4 [5 Marks]\n",
    "Try to implement (similar in Question 2.3) data projection using kernel PCA from an input matrix $\\mathbf{X}$ but now the kernel function is RBF. In this question, we set $\\gamma=10$. \n",
    "\n",
    "\n",
    "**Solution:**"
   ]
  },
  {
   "cell_type": "code",
   "execution_count": 15,
   "metadata": {
    "id": "bb76SScnUs-r"
   },
   "outputs": [
    {
     "data": {
      "image/png": "[encoded data removed]",
      "text/plain": [
       "<Figure size 432x288 with 1 Axes>"
      ]
     },
     "metadata": {
      "needs_background": "light"
     },
     "output_type": "display_data"
    }
   ],
   "source": [
    "# Solution to data projection \n",
    "def projection_rbf_kpca(X, gamma):\n",
    "    # Your answer: Implement and compute the kernel matrix using RBF then projecting the data\n",
    "    # Output: The projected points in R^2\n",
    "    #### TODO {Type your solution here} ###\n",
    "    ndata, dim = X.shape\n",
    "    K = np.zeros((ndata, ndata))\n",
    "    \n",
    "    for i in range(ndata):\n",
    "        for j in range(ndata):\n",
    "            xi_xj = np.exp(-gamma * np.linalg.norm(X[i] - X[j])**2)\n",
    "            K[i][j] = xi_xj\n",
    "            \n",
    "    # centering the kernel matrix \n",
    "    one_n = np.ones((ndata, ndata))*(1/ndata)\n",
    "    centered_kernel = K - one_n@K - K@one_n + one_n@K@one_n\n",
    "    \n",
    "    eigvals, eigvecs = np.linalg.eig(centered_kernel)\n",
    "    eigvals, eigvecs = np.real(eigvals), np.real(eigvecs)\n",
    "    \n",
    "    projected_data = []\n",
    "    k = 2\n",
    "    \n",
    "    for i in range(ndata):\n",
    "        projected_vector = np.zeros(k)\n",
    "        for j in range(k):\n",
    "            coeffs = 0\n",
    "            aj = eigvecs[:,j]\n",
    "            for n in range(ndata):\n",
    "                coeffs += aj[n]*kernel_function(X[i], X[n])\n",
    "            #print(coeffs)\n",
    "            projected_vector[j] = coeffs\n",
    "        projected_data.append(projected_vector)\n",
    "\n",
    "    return np.array(projected_data)\n",
    "\n",
    "# Please do NOT change the code below\n",
    "# Calculate the projection with parameters: an input matrix and a function \n",
    "projected_X_rbf = projection_rbf_kpca(X, gamma=10)\n",
    "plot_data(projected_X_rbf, y)"
   ]
  },
  {
   "cell_type": "code",
   "execution_count": 11,
   "metadata": {},
   "outputs": [
    {
     "data": {
      "text/plain": [
       "array([[ 0.82502345,  0.03426804],\n",
       "       [ 1.07479655,  0.25648895],\n",
       "       [ 0.93938561,  0.5920627 ],\n",
       "       [ 0.6769787 ,  0.64874524],\n",
       "       [ 0.39646543,  0.93513214],\n",
       "       [ 0.09651214,  1.03333779],\n",
       "       [-0.20067434,  1.07150615],\n",
       "       [-0.34814293,  0.89919088],\n",
       "       [-0.70798877,  0.85872284],\n",
       "       [-0.8850671 ,  0.42880899],\n",
       "       [-0.79759481,  0.43589307],\n",
       "       [-1.02518791, -0.08424357],\n",
       "       [-0.9410411 , -0.18802434],\n",
       "       [-0.7681535 , -0.4044852 ],\n",
       "       [-0.68748454, -0.75018197],\n",
       "       [-0.39317505, -1.05395369],\n",
       "       [-0.21795007, -0.90817604],\n",
       "       [ 0.21735931, -1.03541613],\n",
       "       [ 0.53437724, -1.07869368],\n",
       "       [ 0.51922083, -0.87899303],\n",
       "       [ 0.78680962, -0.60745799],\n",
       "       [ 0.96022443, -0.34302643],\n",
       "       [ 2.12997481, -0.17330956],\n",
       "       [ 1.85796419,  0.45157416],\n",
       "       [ 1.66573307,  0.96054467],\n",
       "       [ 1.49923223,  1.12059589],\n",
       "       [ 1.2442566 ,  1.40349641],\n",
       "       [ 1.01088635,  1.78283177],\n",
       "       [ 0.53181125,  2.02706001],\n",
       "       [ 0.2010958 ,  1.90007064],\n",
       "       [-0.29723677,  1.99090769],\n",
       "       [-0.59424953,  1.90346789],\n",
       "       [-1.16355294,  1.62762982],\n",
       "       [-1.27695732,  1.55991017],\n",
       "       [-1.51534184,  1.03235144],\n",
       "       [-2.01120975,  0.85008261],\n",
       "       [-1.98947291,  0.34690158],\n",
       "       [-1.79653924, -0.05507144],\n",
       "       [-1.88124987, -0.54652262],\n",
       "       [-1.76903358, -0.9239256 ],\n",
       "       [-1.54902184, -1.1068815 ],\n",
       "       [-1.49492997, -1.39579224],\n",
       "       [-0.92211776, -1.68922752],\n",
       "       [-0.60714679, -1.89928467],\n",
       "       [-0.26693951, -2.10898891],\n",
       "       [ 0.03846173, -1.9521274 ],\n",
       "       [ 0.80569133, -1.93980337],\n",
       "       [ 1.18319361, -1.73174906],\n",
       "       [ 1.33065887, -1.48589389],\n",
       "       [ 1.59953258, -1.42428566],\n",
       "       [ 1.65662579, -0.92709939],\n",
       "       [ 1.65896365, -0.41249165],\n",
       "       [ 3.97511113, -0.04501764],\n",
       "       [ 3.99133036,  0.42033525],\n",
       "       [ 3.9443272 ,  0.75640535],\n",
       "       [ 3.67458688,  1.24558192],\n",
       "       [ 3.61181032,  1.50834822],\n",
       "       [ 3.42755542,  1.8728977 ],\n",
       "       [ 3.39468507,  2.42048008],\n",
       "       [ 2.77677118,  2.66304229],\n",
       "       [ 2.52246082,  3.1772507 ],\n",
       "       [ 2.21144107,  3.12635078],\n",
       "       [ 1.97612871,  3.32119493],\n",
       "       [ 1.72184705,  3.65224207],\n",
       "       [ 1.32552775,  3.88019538],\n",
       "       [ 0.68187473,  3.79320181],\n",
       "       [ 0.54774011,  4.07331514],\n",
       "       [-0.12172541,  3.98427348],\n",
       "       [-0.56887237,  3.98887599],\n",
       "       [-0.7569412 ,  3.95555805],\n",
       "       [-1.37757227,  3.74015007],\n",
       "       [-1.54898394,  3.61036974],\n",
       "       [-1.79252068,  3.42977185],\n",
       "       [-2.41280395,  3.31238634],\n",
       "       [-2.65723071,  2.93773341],\n",
       "       [-2.74271391,  2.66000147],\n",
       "       [-3.18943804,  2.37813973],\n",
       "       [-3.49608472,  1.88522584],\n",
       "       [-3.48381943,  1.5547315 ],\n",
       "       [-3.6948574 ,  1.2131162 ],\n",
       "       [-3.91348027,  0.77732696],\n",
       "       [-3.90278136,  0.25716996],\n",
       "       [-3.80567377, -0.14474361],\n",
       "       [-3.96506274, -0.32317777],\n",
       "       [-4.11410927, -0.83960082],\n",
       "       [-3.77412112, -1.40455797],\n",
       "       [-3.63194275, -1.69543875],\n",
       "       [-3.47672173, -1.80097264],\n",
       "       [-3.1837682 , -2.35277555],\n",
       "       [-3.01416094, -2.81237272],\n",
       "       [-2.72796541, -2.99418531],\n",
       "       [-2.30890299, -3.34547227],\n",
       "       [-1.87630921, -3.48713008],\n",
       "       [-1.69738839, -3.71331934],\n",
       "       [-1.16236846, -3.76063934],\n",
       "       [-0.6540474 , -3.86128297],\n",
       "       [-0.30106115, -3.77031636],\n",
       "       [-0.0455922 , -3.93508271],\n",
       "       [ 0.4006357 , -3.87636115],\n",
       "       [ 0.77164846, -3.75497373],\n",
       "       [ 1.29651033, -3.89492911],\n",
       "       [ 1.6861489 , -3.69788827],\n",
       "       [ 2.01017758, -3.33326693],\n",
       "       [ 2.48990119, -3.40960709],\n",
       "       [ 2.70536017, -3.00648785],\n",
       "       [ 3.02531622, -2.71395271],\n",
       "       [ 3.28377721, -2.49411728],\n",
       "       [ 3.50487227, -2.08282804],\n",
       "       [ 3.69652756, -1.64289831],\n",
       "       [ 3.92833427, -1.06971435],\n",
       "       [ 3.84639663, -0.48512405],\n",
       "       [ 4.01723144, -0.38538932]])"
      ]
     },
     "execution_count": 11,
     "metadata": {},
     "output_type": "execute_result"
    }
   ],
   "source": [
    "X"
   ]
  },
  {
   "cell_type": "code",
   "execution_count": 12,
   "metadata": {},
   "outputs": [
    {
     "ename": "NameError",
     "evalue": "name 'V' is not defined",
     "output_type": "error",
     "traceback": [
      "\u001b[0;31m---------------------------------------------------------------------------\u001b[0m",
      "\u001b[0;31mNameError\u001b[0m                                 Traceback (most recent call last)",
      "\u001b[0;32m<ipython-input-12-af688aeda998>\u001b[0m in \u001b[0;36m<module>\u001b[0;34m\u001b[0m\n\u001b[0;32m----> 1\u001b[0;31m \u001b[0mV\u001b[0m\u001b[0;34m\u001b[0m\u001b[0;34m\u001b[0m\u001b[0m\n\u001b[0m",
      "\u001b[0;31mNameError\u001b[0m: name 'V' is not defined"
     ]
    }
   ],
   "source": [
    "V"
   ]
  },
  {
   "cell_type": "code",
   "execution_count": null,
   "metadata": {},
   "outputs": [],
   "source": [
    "V = eigvecs\n",
    "X_reduced = V.T@X"
   ]
  },
  {
   "cell_type": "code",
   "execution_count": null,
   "metadata": {
    "scrolled": false
   },
   "outputs": [],
   "source": [
    "X_reduced"
   ]
  },
  {
   "cell_type": "code",
   "execution_count": null,
   "metadata": {},
   "outputs": [],
   "source": [
    "reconstruct = []\n",
    "for i in range(112):\n",
    "    reconstruct.append([X_reduced[:,0], X_reduced[:,1]])"
   ]
  },
  {
   "cell_type": "code",
   "execution_count": null,
   "metadata": {},
   "outputs": [],
   "source": [
    "len(X_reduced)"
   ]
  },
  {
   "cell_type": "code",
   "execution_count": null,
   "metadata": {},
   "outputs": [],
   "source": [
    "plt.scatter(X_reduced[:,0], X_reduced[:,1])"
   ]
  },
  {
   "cell_type": "code",
   "execution_count": null,
   "metadata": {},
   "outputs": [],
   "source": [
    "# from sklearn.decomposition import PCA\n",
    "\n",
    "# ## Finding the principle components\n",
    "# pca = PCA(n_components=2)\n",
    "# principalComponents = pca.fit_transform(X)"
   ]
  },
  {
   "cell_type": "markdown",
   "metadata": {
    "id": "e41lPDZyB44l"
   },
   "source": [
    "### Question 2.5 [5 Marks]\n",
    "In Question 2.4, it is not clearly visible that the visualisation shows the projected data linearly separable. Try to find the value for $\\gamma$, and the visualisation should **CLEARLY** shows that the projected data is linearly separable.\n",
    "\n",
    "\n",
    "**Solution:**"
   ]
  },
  {
   "cell_type": "code",
   "execution_count": 18,
   "metadata": {
    "id": "fxbAO1TNDQ3b"
   },
   "outputs": [
    {
     "data": {
      "image/png": "[encoded data removed]",
      "text/plain": [
       "<Figure size 432x288 with 1 Axes>"
      ]
     },
     "metadata": {
      "needs_background": "light"
     },
     "output_type": "display_data"
    }
   ],
   "source": [
    "# Solution to find \\gamma\n",
    "# Set your gamma \n",
    "gamma = 0.5\n",
    "# Please do NOT change the code below\n",
    "# Calculate the projection with parameters: an input matrix and gamma\n",
    "\n",
    "projected_X_rbf = projection_rbf_kpca(X, gamma=gamma)\n",
    "plot_data(projected_X_rbf, y)"
   ]
  },
  {
   "cell_type": "code",
   "execution_count": null,
   "metadata": {},
   "outputs": [],
   "source": []
  }
 ],
 "metadata": {
  "colab": {
   "collapsed_sections": [],
   "name": "question_2.ipynb",
   "provenance": []
  },
  "kernelspec": {
   "display_name": "Python 3",
   "language": "python",
   "name": "python3"
  },
  "language_info": {
   "codemirror_mode": {
    "name": "ipython",
    "version": 3
   },
   "file_extension": ".py",
   "mimetype": "text/x-python",
   "name": "python",
   "nbconvert_exporter": "python",
   "pygments_lexer": "ipython3",
   "version": "3.7.4"
  }
 },
 "nbformat": 4,
 "nbformat_minor": 4
}
